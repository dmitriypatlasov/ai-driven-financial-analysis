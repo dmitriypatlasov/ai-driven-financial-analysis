{
 "cells": [
  {
   "cell_type": "code",
   "execution_count": 1,
   "id": "ee2b0b29",
   "metadata": {},
   "outputs": [],
   "source": [
    "import pandas as pd\n",
    "import numpy as np\n",
    "import matplotlib.pyplot as plt\n",
    "import lightgbm as lgb\n",
    "import yfinance as yf\n",
    "from sklearn.preprocessing import StandardScaler, MinMaxScaler, Normalizer, LabelEncoder\n",
    "from sklearn.metrics import mean_squared_error, mean_absolute_error, r2_score, mean_absolute_percentage_error, explained_variance_score\n",
    "from sklearn.ensemble import IsolationForest\n",
    "from sklearn.preprocessing import PowerTransformer\n",
    "\n",
    "import warnings\n",
    "warnings.filterwarnings(\"ignore\")"
   ]
  },
  {
   "cell_type": "code",
   "execution_count": 2,
   "id": "0720618a",
   "metadata": {},
   "outputs": [
    {
     "name": "stderr",
     "output_type": "stream",
     "text": [
      "[*********************100%%**********************]  1 of 1 completed\n"
     ]
    },
    {
     "data": {
      "text/plain": [
       "Recovered_vol                    0\n",
       "Risk_premium                     0\n",
       "Risk_preference                  0\n",
       "Risk_neutral_skewness            0\n",
       "Risk_neutral_kurtosis            0\n",
       "Recovered_skewness               0\n",
       "Recovered_kurtosis               0\n",
       "USA_10_y_treasuries              0\n",
       "Effective_Fed_Funds_Rate_true    0\n",
       "Consumer_Price_Index_true        0\n",
       "Producer_Price_Index_true        0\n",
       "Unemployment_Rate_true           0\n",
       "GDP_true                         0\n",
       "Industrial_Production_true       0\n",
       "Mortgage_Rates_true              0\n",
       "Realized_Volatility              0\n",
       "VIX_close                        0\n",
       "dtype: int64"
      ]
     },
     "execution_count": 2,
     "metadata": {},
     "output_type": "execute_result"
    }
   ],
   "source": [
    "vix_data = yf.download('^VIX', start='2008-01-01')\n",
    "vix_data['VIX_close'] = vix_data['Adj Close']\n",
    "\n",
    "vol_df = pd.read_csv('volatility_df.csv', \n",
    "                     parse_dates=['Date'], index_col='Date')\n",
    "\n",
    "volatility_df = pd.merge_asof(vol_df, vix_data['VIX_close'], left_index=True, right_index=True, direction='nearest')\n",
    "volatility_df = volatility_df.set_index(vol_df.index)\n",
    "volatility_df.isna().sum()"
   ]
  },
  {
   "cell_type": "code",
   "execution_count": 3,
   "id": "72f58907",
   "metadata": {},
   "outputs": [
    {
     "name": "stdout",
     "output_type": "stream",
     "text": [
      "3357\n"
     ]
    },
    {
     "data": {
      "text/html": [
       "<div>\n",
       "<style scoped>\n",
       "    .dataframe tbody tr th:only-of-type {\n",
       "        vertical-align: middle;\n",
       "    }\n",
       "\n",
       "    .dataframe tbody tr th {\n",
       "        vertical-align: top;\n",
       "    }\n",
       "\n",
       "    .dataframe thead th {\n",
       "        text-align: right;\n",
       "    }\n",
       "</style>\n",
       "<table border=\"1\" class=\"dataframe\">\n",
       "  <thead>\n",
       "    <tr style=\"text-align: right;\">\n",
       "      <th></th>\n",
       "      <th>Recovered_vol</th>\n",
       "      <th>Realized_Volatility_(t+5)</th>\n",
       "    </tr>\n",
       "    <tr>\n",
       "      <th>Date</th>\n",
       "      <th></th>\n",
       "      <th></th>\n",
       "    </tr>\n",
       "  </thead>\n",
       "  <tbody>\n",
       "    <tr>\n",
       "      <th>2010-01-05</th>\n",
       "      <td>-0.024188</td>\n",
       "      <td>0.031692</td>\n",
       "    </tr>\n",
       "    <tr>\n",
       "      <th>2010-01-06</th>\n",
       "      <td>0.001425</td>\n",
       "      <td>0.029962</td>\n",
       "    </tr>\n",
       "    <tr>\n",
       "      <th>2010-01-07</th>\n",
       "      <td>0.007015</td>\n",
       "      <td>-0.022161</td>\n",
       "    </tr>\n",
       "    <tr>\n",
       "      <th>2010-01-08</th>\n",
       "      <td>0.030061</td>\n",
       "      <td>0.046408</td>\n",
       "    </tr>\n",
       "    <tr>\n",
       "      <th>2010-01-11</th>\n",
       "      <td>0.030583</td>\n",
       "      <td>0.073188</td>\n",
       "    </tr>\n",
       "    <tr>\n",
       "      <th>2010-01-12</th>\n",
       "      <td>-0.037054</td>\n",
       "      <td>-0.011969</td>\n",
       "    </tr>\n",
       "    <tr>\n",
       "      <th>2010-01-13</th>\n",
       "      <td>0.161288</td>\n",
       "      <td>0.137014</td>\n",
       "    </tr>\n",
       "    <tr>\n",
       "      <th>2010-01-14</th>\n",
       "      <td>0.012751</td>\n",
       "      <td>0.125819</td>\n",
       "    </tr>\n",
       "    <tr>\n",
       "      <th>2010-01-15</th>\n",
       "      <td>-0.231002</td>\n",
       "      <td>0.002256</td>\n",
       "    </tr>\n",
       "    <tr>\n",
       "      <th>2010-01-19</th>\n",
       "      <td>0.041342</td>\n",
       "      <td>0.003335</td>\n",
       "    </tr>\n",
       "  </tbody>\n",
       "</table>\n",
       "</div>"
      ],
      "text/plain": [
       "            Recovered_vol  Realized_Volatility_(t+5)\n",
       "Date                                                \n",
       "2010-01-05      -0.024188                   0.031692\n",
       "2010-01-06       0.001425                   0.029962\n",
       "2010-01-07       0.007015                  -0.022161\n",
       "2010-01-08       0.030061                   0.046408\n",
       "2010-01-11       0.030583                   0.073188\n",
       "2010-01-12      -0.037054                  -0.011969\n",
       "2010-01-13       0.161288                   0.137014\n",
       "2010-01-14       0.012751                   0.125819\n",
       "2010-01-15      -0.231002                   0.002256\n",
       "2010-01-19       0.041342                   0.003335"
      ]
     },
     "execution_count": 3,
     "metadata": {},
     "output_type": "execute_result"
    }
   ],
   "source": [
    "volatility_df = volatility_df[['Recovered_vol', 'Realized_Volatility']]\n",
    "\n",
    "volatility_df = volatility_df.replace([0], 1e-6)\n",
    "\n",
    "volatility_df = volatility_df / volatility_df.shift(1) - 1\n",
    "\n",
    "lag = -5\n",
    "volatility_df[f'Realized_Volatility_(t+{abs(lag)})'] = volatility_df['Realized_Volatility'].shift(lag)\n",
    "volatility_df = volatility_df.dropna()\n",
    "volatility_df.drop('Realized_Volatility', axis=1, inplace=True)\n",
    "print(len(volatility_df))\n",
    "volatility_df.head(10)"
   ]
  },
  {
   "cell_type": "code",
   "execution_count": 4,
   "id": "c6fb6570",
   "metadata": {},
   "outputs": [
    {
     "name": "stdout",
     "output_type": "stream",
     "text": [
      "(2349, 1) (2349,) (503, 1) (503,) (505, 1) (505,)\n"
     ]
    }
   ],
   "source": [
    "# Стандартизация, нормализация, замена выбросов медианой\n",
    "\n",
    "values_clear = volatility_df.copy()\n",
    "\n",
    "train_size = int(len(values_clear) * 0.7)\n",
    "val_size = int(len(values_clear) * 0.15)\n",
    "test_size = len(values_clear) - train_size - val_size\n",
    "\n",
    "train = values_clear.iloc[:train_size]\n",
    "val = values_clear.iloc[train_size:train_size + val_size]\n",
    "test = values_clear.iloc[train_size + val_size:]\n",
    "\n",
    "# Обучаем стандартизатор, нормализатор и изолейшн форест на тренировочных данных\n",
    "transformer = PowerTransformer(method='yeo-johnson')\n",
    "transformer.fit(train)\n",
    "train_transformed = transformer.transform(train)\n",
    "\n",
    "scaler = MinMaxScaler(feature_range=(1e-6, 1))\n",
    "scaler.fit(train_transformed)\n",
    "train_scaled = scaler.transform(train_transformed)\n",
    "\n",
    "isolation_forest = IsolationForest(n_estimators=1000, contamination=0.01, random_state=42) # 0.01\n",
    "isolation_forest.fit(train_scaled)\n",
    "\n",
    "normalizer = Normalizer()\n",
    "normalizer.fit(train_scaled)\n",
    "\n",
    "# Применяем стандартизатор, нормализатор и изолейшн форест на тренировочных, валидационных и тестовых данных\n",
    "train_isolation_forest = isolation_forest.predict(train_scaled)\n",
    "train_normalized = normalizer.transform(train_scaled)\n",
    "\n",
    "val_transformed = transformer.transform(val)\n",
    "val_scaled = scaler.transform(val_transformed)\n",
    "val_isolation_forest = isolation_forest.predict(val_scaled)\n",
    "val_normalized = normalizer.transform(val_scaled)\n",
    "\n",
    "test_transformed = transformer.transform(test)\n",
    "test_scaled = scaler.transform(test_transformed)\n",
    "test_isolation_forest = isolation_forest.predict(test_scaled)\n",
    "test_normalized = normalizer.transform(test_scaled)\n",
    "\n",
    "# Считаем метрику\n",
    "train_values = np.median(train_scaled, axis=0)\n",
    "val_values = np.median(val_scaled, axis=0)\n",
    "test_values = np.median(test_scaled, axis=0)\n",
    "\n",
    "# Заполняем выбросы медианой\n",
    "train_scaled[train_isolation_forest == -1] = train_values\n",
    "val_scaled[val_isolation_forest == -1] = val_values\n",
    "test_scaled[test_isolation_forest == -1] = test_values\n",
    "\n",
    "y_train = train_scaled[:, -1:]\n",
    "y_train = np.squeeze(y_train)\n",
    "X_train = np.delete(train_scaled, -1, axis=1)\n",
    "\n",
    "y_val = val_scaled[:, -1:]\n",
    "y_val = np.squeeze(y_val)\n",
    "X_val = np.delete(val_scaled, -1, axis=1)\n",
    "\n",
    "y_test = test_scaled[:, -1:]\n",
    "y_test = np.squeeze(y_test)\n",
    "X_test = np.delete(test_scaled, -1, axis=1)\n",
    "\n",
    "print(X_train.shape, y_train.shape, X_val.shape, y_val.shape, X_test.shape, y_test.shape)"
   ]
  },
  {
   "cell_type": "code",
   "execution_count": 6,
   "id": "d0fa7102",
   "metadata": {},
   "outputs": [
    {
     "name": "stdout",
     "output_type": "stream",
     "text": [
      "Fitting 5 folds for each of 4480 candidates, totalling 22400 fits\n",
      "Лучшие гиперпараметры: {'regressor__C': 0.01, 'regressor__degree': 2, 'regressor__epsilon': 0.1, 'regressor__gamma': 5, 'regressor__kernel': 'sigmoid'}\n",
      "MSE на валидационном наборе данных: 0.0016112379190584996\n"
     ]
    }
   ],
   "source": [
    "from sklearn.pipeline import Pipeline\n",
    "from sklearn.model_selection import GridSearchCV, TimeSeriesSplit\n",
    "from sklearn.svm import SVR\n",
    "\n",
    "# создаем пайплайн\n",
    "pipe = Pipeline([\n",
    "    ('regressor', SVR(verbose=False)),\n",
    "])\n",
    "\n",
    "# определяем гиперпараметры для поиска\n",
    "param_grid = {\n",
    "    'regressor__kernel': ['rbf', 'linear', 'poly', 'sigmoid'],\n",
    "    'regressor__C': [0.1, 0.01, 0.5, 1, 5, 10, 50, 100],\n",
    "    'regressor__gamma': [5, 1, 0.1, 0.01, 0.001],\n",
    "    'regressor__degree': [2, 3, 4, 5],\n",
    "    'regressor__epsilon': [0.1, 0.25, 0.5, 0.75, 1, 2, 5]\n",
    "}\n",
    "\n",
    "tscv = TimeSeriesSplit(n_splits=5)\n",
    "\n",
    "# создаем Grid Search CV\n",
    "grid_search = GridSearchCV(\n",
    "    estimator=pipe,\n",
    "    param_grid=param_grid,\n",
    "    scoring='neg_mean_squared_error',\n",
    "    cv=tscv,\n",
    "    refit=True,\n",
    "    verbose=1,\n",
    "    n_jobs=-1\n",
    ")\n",
    "\n",
    "grid_search.fit(X_train, y_train)\n",
    "\n",
    "print('Лучшие гиперпараметры:', grid_search.best_params_)\n",
    "\n",
    "print('MSE на валидационном наборе данных:', -grid_search.best_score_)"
   ]
  },
  {
   "cell_type": "code",
   "execution_count": 7,
   "id": "c18f687f",
   "metadata": {},
   "outputs": [],
   "source": [
    "# Лучшие гиперпараметры: {'regressor__C': 0.01, 'regressor__degree': 2, 'regressor__epsilon': 0.1, 'regressor__gamma': 5, 'regressor__kernel': 'sigmoid'}\n",
    "# MSE на валидационном наборе данных: 0.0016112379190584996"
   ]
  },
  {
   "cell_type": "code",
   "execution_count": 8,
   "id": "0805f373",
   "metadata": {},
   "outputs": [
    {
     "name": "stdout",
     "output_type": "stream",
     "text": [
      "MSE val: 0.0014\n",
      "MAE val: 0.0230\n",
      "R2 val: -0.0168\n",
      "MAPE val: 0.0372\n",
      "\n",
      "MSE test: 0.0009\n",
      "MAE test: 0.0195\n",
      "R2 test: -0.0282\n",
      "MAPE test: 0.0319\n"
     ]
    }
   ],
   "source": [
    "# Предсказание значений на валидационной выборке\n",
    "val_pred = grid_search.predict(X_val)\n",
    "\n",
    "print(f'MSE val: {mean_squared_error(y_val, val_pred):.4f}')\n",
    "print(f'MAE val: {mean_absolute_error(y_val, val_pred):.4f}')\n",
    "print(f'R2 val: {r2_score(y_val, val_pred):.4f}')\n",
    "print(f'MAPE val: {mean_absolute_percentage_error(y_val, val_pred):.4f}')\n",
    "\n",
    "# Предсказание значений на тестовой выборке\n",
    "y_pred = grid_search.predict(X_test)\n",
    "\n",
    "print()\n",
    "print(f'MSE test: {mean_squared_error(y_test, y_pred):.4f}')\n",
    "print(f'MAE test: {mean_absolute_error(y_test, y_pred):.4f}')\n",
    "print(f'R2 test: {r2_score(y_test, y_pred):.4f}')\n",
    "print(f'MAPE test: {mean_absolute_percentage_error(y_test, y_pred):.4f}')"
   ]
  },
  {
   "cell_type": "code",
   "execution_count": 9,
   "id": "7b1e4937",
   "metadata": {},
   "outputs": [
    {
     "name": "stdout",
     "output_type": "stream",
     "text": [
      "Ошибка для квантиля 0.0: 0.177\n",
      "Ошибка для квантиля 0.1: 0.024\n",
      "Ошибка для квантиля 0.2: 0.01\n",
      "Ошибка для квантиля 0.3: 0.0\n",
      "Ошибка для квантиля 0.4: 0.004\n",
      "Ошибка для квантиля 0.5: 0.005\n",
      "Ошибка для квантиля 0.6: 0.006\n",
      "Ошибка для квантиля 0.7: 0.01\n",
      "Ошибка для квантиля 0.8: 0.019\n",
      "Ошибка для квантиля 0.9: 0.037\n",
      "Ошибка для квантиля 1.0: 0.134\n"
     ]
    }
   ],
   "source": [
    "# Вычисление квантильных ошибок\n",
    "quan = []\n",
    "for q in np.arange(0, 1.1, 0.1):\n",
    "    quantile_error = np.abs(np.quantile(y_test, q) - np.quantile(y_pred, q))\n",
    "    quan.append(quantile_error)\n",
    "    print(f'Ошибка для квантиля {q.round(2)}: {quantile_error.round(3)}')"
   ]
  },
  {
   "cell_type": "code",
   "execution_count": 10,
   "id": "0a108648",
   "metadata": {},
   "outputs": [
    {
     "data": {
      "image/png": "[encoded data removed]",
      "text/plain": [
       "<Figure size 1000x500 with 1 Axes>"
      ]
     },
     "metadata": {},
     "output_type": "display_data"
    }
   ],
   "source": [
    "# График квантильной ошибки\n",
    "quan_df = pd.DataFrame(quan, columns=['quantile error'])\n",
    "\n",
    "index = np.arange(0, len(quan_df)*0.1, 0.1)\n",
    "quan_df.set_index(index, inplace=True)\n",
    "\n",
    "plt.figure(figsize=(10, 5))\n",
    "plt.plot(quan_df)\n",
    "plt.show()"
   ]
  },
  {
   "cell_type": "code",
   "execution_count": null,
   "id": "335a1add",
   "metadata": {},
   "outputs": [],
   "source": []
  }
 ],
 "metadata": {
  "kernelspec": {
   "display_name": "Python 3 (ipykernel)",
   "language": "python",
   "name": "python3"
  },
  "language_info": {
   "codemirror_mode": {
    "name": "ipython",
    "version": 3
   },
   "file_extension": ".py",
   "mimetype": "text/x-python",
   "name": "python",
   "nbconvert_exporter": "python",
   "pygments_lexer": "ipython3",
   "version": "3.10.12"
  }
 },
 "nbformat": 4,
 "nbformat_minor": 5
}
